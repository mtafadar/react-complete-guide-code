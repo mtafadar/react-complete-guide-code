{
  "cells": [
    {
      "cell_type": "markdown",
      "metadata": {
        "id": "view-in-github",
        "colab_type": "text"
      },
      "source": [
        "<a href=\"https://colab.research.google.com/github/mtafadar/react-complete-guide-code/blob/master/CS483HW2.ipynb\" target=\"_parent\"><img src=\"https://colab.research.google.com/assets/colab-badge.svg\" alt=\"Open In Colab\"/></a>"
      ]
    },
    {
      "cell_type": "markdown",
      "metadata": {
        "id": "GTwDFnjHMk25"
      },
      "source": [
        "# CS483 - Homework 2\n",
        "## Spark Tutorial\n",
        "\n",
        "Complete you student information here:\n",
        "\n",
        "You Name: Mosrour Tafadar\n",
        "\n",
        "UIN: 657904373\n",
        "\n",
        "Net ID: mtafad2\n",
        "\n",
        "In this tutorial, you will learn how to use [Apache Spark](https://spark.apache.org) in local mode on a Colab enviroment. Credits to [Stanford CS246](https://web.stanford.edu/class/cs246/). \n",
        "\n",
        "The tutorial is worth 5 points. The bonus question is worth extra 3 points, which can be added to the total score of this course. After you complete this homework, submit pdf file to gradescope AND ipynb file to blackboard."
      ]
    },
    {
      "cell_type": "markdown",
      "metadata": {
        "id": "eXQzA01OS_yQ"
      },
      "source": [
        "### Setup"
      ]
    },
    {
      "cell_type": "markdown",
      "metadata": {
        "id": "AbYZoVVWOZA5"
      },
      "source": [
        "Let's set up Spark on your Colab environment.  Run the cell below!"
      ]
    },
    {
      "cell_type": "code",
      "execution_count": 1,
      "metadata": {
        "id": "dhzk3GE6S9RC",
        "colab": {
          "base_uri": "https://localhost:8080/"
        },
        "outputId": "72587a3a-24b8-4942-b34a-483cce64ba38"
      },
      "outputs": [
        {
          "output_type": "stream",
          "name": "stdout",
          "text": [
            "Looking in indexes: https://pypi.org/simple, https://us-python.pkg.dev/colab-wheels/public/simple/\n",
            "Collecting pyspark\n",
            "  Downloading pyspark-3.3.1.tar.gz (281.4 MB)\n",
            "\u001b[2K     \u001b[90m━━━━━━━━━━━━━━━━━━━━━━━━━━━━━━━━━━━━━━━\u001b[0m \u001b[32m281.4/281.4 MB\u001b[0m \u001b[31m4.0 MB/s\u001b[0m eta \u001b[36m0:00:00\u001b[0m\n",
            "\u001b[?25h  Preparing metadata (setup.py) ... \u001b[?25l\u001b[?25hdone\n",
            "Collecting py4j==0.10.9.5\n",
            "  Downloading py4j-0.10.9.5-py2.py3-none-any.whl (199 kB)\n",
            "\u001b[2K     \u001b[90m━━━━━━━━━━━━━━━━━━━━━━━━━━━━━━━━━━━━━━\u001b[0m \u001b[32m199.7/199.7 KB\u001b[0m \u001b[31m11.8 MB/s\u001b[0m eta \u001b[36m0:00:00\u001b[0m\n",
            "\u001b[?25hBuilding wheels for collected packages: pyspark\n",
            "  Building wheel for pyspark (setup.py) ... \u001b[?25l\u001b[?25hdone\n",
            "  Created wheel for pyspark: filename=pyspark-3.3.1-py2.py3-none-any.whl size=281845512 sha256=003952ce6fa5d428f1af9030e7061d2e95d83caa5fe005d988e3d02711d36e9a\n",
            "  Stored in directory: /root/.cache/pip/wheels/43/dc/11/ec201cd671da62fa9c5cc77078235e40722170ceba231d7598\n",
            "Successfully built pyspark\n",
            "Installing collected packages: py4j, pyspark\n",
            "Successfully installed py4j-0.10.9.5 pyspark-3.3.1\n",
            "The following package was automatically installed and is no longer required:\n",
            "  libnvidia-common-510\n",
            "Use 'apt autoremove' to remove it.\n",
            "The following additional packages will be installed:\n",
            "  openjdk-8-jre-headless\n",
            "Suggested packages:\n",
            "  openjdk-8-demo openjdk-8-source libnss-mdns fonts-dejavu-extra\n",
            "  fonts-ipafont-gothic fonts-ipafont-mincho fonts-wqy-microhei\n",
            "  fonts-wqy-zenhei fonts-indic\n",
            "The following NEW packages will be installed:\n",
            "  openjdk-8-jdk-headless openjdk-8-jre-headless\n",
            "0 upgraded, 2 newly installed, 0 to remove and 21 not upgraded.\n",
            "Need to get 36.5 MB of archives.\n",
            "After this operation, 143 MB of additional disk space will be used.\n",
            "Selecting previously unselected package openjdk-8-jre-headless:amd64.\n",
            "(Reading database ... 128097 files and directories currently installed.)\n",
            "Preparing to unpack .../openjdk-8-jre-headless_8u352-ga-1~20.04_amd64.deb ...\n",
            "Unpacking openjdk-8-jre-headless:amd64 (8u352-ga-1~20.04) ...\n",
            "Selecting previously unselected package openjdk-8-jdk-headless:amd64.\n",
            "Preparing to unpack .../openjdk-8-jdk-headless_8u352-ga-1~20.04_amd64.deb ...\n",
            "Unpacking openjdk-8-jdk-headless:amd64 (8u352-ga-1~20.04) ...\n",
            "Setting up openjdk-8-jre-headless:amd64 (8u352-ga-1~20.04) ...\n",
            "update-alternatives: using /usr/lib/jvm/java-8-openjdk-amd64/jre/bin/orbd to provide /usr/bin/orbd (orbd) in auto mode\n",
            "update-alternatives: using /usr/lib/jvm/java-8-openjdk-amd64/jre/bin/servertool to provide /usr/bin/servertool (servertool) in auto mode\n",
            "update-alternatives: using /usr/lib/jvm/java-8-openjdk-amd64/jre/bin/tnameserv to provide /usr/bin/tnameserv (tnameserv) in auto mode\n",
            "Setting up openjdk-8-jdk-headless:amd64 (8u352-ga-1~20.04) ...\n",
            "update-alternatives: using /usr/lib/jvm/java-8-openjdk-amd64/bin/idlj to provide /usr/bin/idlj (idlj) in auto mode\n",
            "update-alternatives: using /usr/lib/jvm/java-8-openjdk-amd64/bin/wsimport to provide /usr/bin/wsimport (wsimport) in auto mode\n",
            "update-alternatives: using /usr/lib/jvm/java-8-openjdk-amd64/bin/jsadebugd to provide /usr/bin/jsadebugd (jsadebugd) in auto mode\n",
            "update-alternatives: using /usr/lib/jvm/java-8-openjdk-amd64/bin/native2ascii to provide /usr/bin/native2ascii (native2ascii) in auto mode\n",
            "update-alternatives: using /usr/lib/jvm/java-8-openjdk-amd64/bin/javah to provide /usr/bin/javah (javah) in auto mode\n",
            "update-alternatives: using /usr/lib/jvm/java-8-openjdk-amd64/bin/clhsdb to provide /usr/bin/clhsdb (clhsdb) in auto mode\n",
            "update-alternatives: using /usr/lib/jvm/java-8-openjdk-amd64/bin/xjc to provide /usr/bin/xjc (xjc) in auto mode\n",
            "update-alternatives: using /usr/lib/jvm/java-8-openjdk-amd64/bin/hsdb to provide /usr/bin/hsdb (hsdb) in auto mode\n",
            "update-alternatives: using /usr/lib/jvm/java-8-openjdk-amd64/bin/schemagen to provide /usr/bin/schemagen (schemagen) in auto mode\n",
            "update-alternatives: using /usr/lib/jvm/java-8-openjdk-amd64/bin/extcheck to provide /usr/bin/extcheck (extcheck) in auto mode\n",
            "update-alternatives: using /usr/lib/jvm/java-8-openjdk-amd64/bin/jhat to provide /usr/bin/jhat (jhat) in auto mode\n",
            "update-alternatives: using /usr/lib/jvm/java-8-openjdk-amd64/bin/wsgen to provide /usr/bin/wsgen (wsgen) in auto mode\n"
          ]
        }
      ],
      "source": [
        "!pip install pyspark\n",
        "!pip install -U -q PyDrive\n",
        "!apt install openjdk-8-jdk-headless -qq"
      ]
    },
    {
      "cell_type": "code",
      "execution_count": 2,
      "metadata": {
        "id": "XtJVQkDhZEi9"
      },
      "outputs": [],
      "source": [
        "import os\n",
        "os.environ[\"JAVA_HOME\"] = \"/usr/lib/jvm/java-8-openjdk-amd64\""
      ]
    },
    {
      "cell_type": "markdown",
      "metadata": {
        "id": "ctU1dYjfOif7"
      },
      "source": [
        "Now, we authenticate a Google Drive client to download the file we will be processing in our Spark job.\n",
        "\n",
        "**Make sure to follow the interactive instructions.**"
      ]
    },
    {
      "cell_type": "code",
      "execution_count": 3,
      "metadata": {
        "id": "1dfnX7IAOkvH"
      },
      "outputs": [],
      "source": [
        "from pydrive.auth import GoogleAuth\n",
        "from pydrive.drive import GoogleDrive\n",
        "from google.colab import auth\n",
        "from oauth2client.client import GoogleCredentials\n",
        "\n",
        "# Authenticate and create the PyDrive client\n",
        "auth.authenticate_user()\n",
        "gauth = GoogleAuth()\n",
        "gauth.credentials = GoogleCredentials.get_application_default()\n",
        "drive = GoogleDrive(gauth)"
      ]
    },
    {
      "cell_type": "code",
      "execution_count": 4,
      "metadata": {
        "id": "UF5nuSdyTJpc"
      },
      "outputs": [],
      "source": [
        "id='1L6pCQkldvdBoaEhRFzL0VnrggEFvqON4'\n",
        "downloaded = drive.CreateFile({'id': id}) \n",
        "downloaded.GetContentFile('Bombing_Operations.json.gz')\n",
        "\n",
        "id='14dyBmcTBA32uXPxDbqr0bFDIzGxMTWwl'\n",
        "downloaded = drive.CreateFile({'id': id}) \n",
        "downloaded.GetContentFile('Aircraft_Glossary.json.gz')  "
      ]
    },
    {
      "cell_type": "markdown",
      "metadata": {
        "id": "wA49WWqmO5rR"
      },
      "source": [
        "If you executed the cells above, you should be able to see the files *Bombing_Operations.json.gz* and *Aircraft_Glossary.json.gz* under the \"Files\" tab on the left panel."
      ]
    },
    {
      "cell_type": "code",
      "execution_count": 5,
      "metadata": {
        "id": "xgQaRx6rSaf9"
      },
      "outputs": [],
      "source": [
        "# Let's import the libraries we will need\n",
        "import pandas as pd\n",
        "import numpy as np\n",
        "import matplotlib.pyplot as plt\n",
        "%matplotlib inline\n",
        "\n",
        "import pyspark\n",
        "from pyspark.sql import *\n",
        "from pyspark.sql.functions import *\n",
        "from pyspark import SparkContext, SparkConf"
      ]
    },
    {
      "cell_type": "markdown",
      "metadata": {
        "id": "uUD5XpD_SagA"
      },
      "source": [
        "Let's initialize the Spark context.\n"
      ]
    },
    {
      "cell_type": "code",
      "execution_count": 6,
      "metadata": {
        "id": "7ft3VivrSagB"
      },
      "outputs": [],
      "source": [
        "# create the session\n",
        "\n",
        "conf = SparkConf().set(\"spark.ui.port\", \"4050\")\n",
        "\n",
        "# create the context\n",
        "sc = pyspark.SparkContext(conf=conf)\n",
        "spark = SparkSession.builder.getOrCreate()\n"
      ]
    },
    {
      "cell_type": "markdown",
      "metadata": {
        "id": "-n20ixkgSagD"
      },
      "source": [
        "You can easily check the current version and get the link of the web interface. In the Spark UI, you can monitor the progress of your job and debug the performance bottlenecks (if your Colab is running with a **local runtime**)."
      ]
    },
    {
      "cell_type": "code",
      "execution_count": 7,
      "metadata": {
        "id": "Fl4RHbqFSagE",
        "colab": {
          "base_uri": "https://localhost:8080/",
          "height": 221
        },
        "outputId": "e8142ae6-c520-47b5-cb42-8a6dab8840c2"
      },
      "outputs": [
        {
          "output_type": "execute_result",
          "data": {
            "text/plain": [
              "<pyspark.sql.session.SparkSession at 0x7f7cdd338b20>"
            ],
            "text/html": [
              "\n",
              "            <div>\n",
              "                <p><b>SparkSession - in-memory</b></p>\n",
              "                \n",
              "        <div>\n",
              "            <p><b>SparkContext</b></p>\n",
              "\n",
              "            <p><a href=\"http://1d023561ad58:4050\">Spark UI</a></p>\n",
              "\n",
              "            <dl>\n",
              "              <dt>Version</dt>\n",
              "                <dd><code>v3.3.1</code></dd>\n",
              "              <dt>Master</dt>\n",
              "                <dd><code>local[*]</code></dd>\n",
              "              <dt>AppName</dt>\n",
              "                <dd><code>pyspark-shell</code></dd>\n",
              "            </dl>\n",
              "        </div>\n",
              "        \n",
              "            </div>\n",
              "        "
            ]
          },
          "metadata": {},
          "execution_count": 7
        }
      ],
      "source": [
        "spark"
      ]
    },
    {
      "cell_type": "markdown",
      "metadata": {
        "id": "xlw1Mgx0T9-l"
      },
      "source": [
        "If you are running this Colab on the Google hosted runtime, the cell below will create a *ngrok* tunnel which will allow you to check the Spark UI.\n",
        "\n",
        "**To facilitate setting up the ngrok tunnel, please do the following steps:**\n",
        "1. First, navigate to the ngrok website and create your account: https://dashboard.ngrok.com/login\n",
        "2. Then, obtain your authentication token from https://dashboard.ngrok.com/get-started/your-authtoken\n",
        "3. Replace \\<YOUR_AUTH_TOKEN_HERE\\> in the following cell with your auth token.\n",
        "\n",
        "You can then proceed to run the following cells, and you should be able to see the Spark UI as a separate web page.\n",
        "\n",
        "(If you see a security warning, \"Deceptive site ahead\", please click \"Details -> visit this unsafe site\" to view the Spark UI.)"
      ]
    },
    {
      "cell_type": "code",
      "execution_count": 10,
      "metadata": {
        "id": "E0BY3Z6sZPHq",
        "colab": {
          "base_uri": "https://localhost:8080/"
        },
        "outputId": "fe5d9ef5-0edb-45e2-bca2-d3fcec0f3d89"
      },
      "outputs": [
        {
          "output_type": "stream",
          "name": "stdout",
          "text": [
            "--2023-02-15 04:27:33--  https://bin.equinox.io/c/4VmDzA7iaHb/ngrok-stable-linux-amd64.zip\n",
            "Resolving bin.equinox.io (bin.equinox.io)... 54.161.241.46, 18.205.222.128, 54.237.133.81, ...\n",
            "Connecting to bin.equinox.io (bin.equinox.io)|54.161.241.46|:443... connected.\n",
            "HTTP request sent, awaiting response... 200 OK\n",
            "Length: 13921656 (13M) [application/octet-stream]\n",
            "Saving to: ‘ngrok-stable-linux-amd64.zip.2’\n",
            "\n",
            "ngrok-stable-linux- 100%[===================>]  13.28M  12.9MB/s    in 1.0s    \n",
            "\n",
            "2023-02-15 04:27:35 (12.9 MB/s) - ‘ngrok-stable-linux-amd64.zip.2’ saved [13921656/13921656]\n",
            "\n",
            "Archive:  ngrok-stable-linux-amd64.zip\n",
            "replace ngrok? [y]es, [n]o, [A]ll, [N]one, [r]ename: Authtoken saved to configuration file: /root/.ngrok2/ngrok.yml\n",
            "authtoken: 2KZdPX6tyosODYlevgLiiEjTRUE_6FyUqBo8q9Cds8aYaBVv8\n"
          ]
        }
      ],
      "source": [
        "!wget https://bin.equinox.io/c/4VmDzA7iaHb/ngrok-stable-linux-amd64.zip\n",
        "!unzip ngrok-stable-linux-amd64.zip\n",
        "!./ngrok authtoken 2KZdPX6tyosODYlevgLiiEjTRUE_6FyUqBo8q9Cds8aYaBVv8\n",
        "!cat ~/.ngrok2/ngrok.yml\n",
        "get_ipython().system_raw('./ngrok http 4050 &')"
      ]
    },
    {
      "cell_type": "code",
      "execution_count": 11,
      "metadata": {
        "id": "cYYlUTWYQMjb",
        "colab": {
          "base_uri": "https://localhost:8080/"
        },
        "outputId": "897bb582-b0ef-4d57-c729-7f83fa62e080"
      },
      "outputs": [
        {
          "output_type": "stream",
          "name": "stdout",
          "text": [
            "https://d17f-34-141-146-98.ngrok.io\n"
          ]
        }
      ],
      "source": [
        "!curl -s http://localhost:4040/api/tunnels | python3 -c \\\n",
        "    \"import sys, json; print(json.load(sys.stdin)['tunnels'][0]['public_url'])\""
      ]
    },
    {
      "cell_type": "markdown",
      "source": [
        "Let's start from here "
      ],
      "metadata": {
        "id": "76gGDHmXa_o6"
      }
    },
    {
      "cell_type": "code",
      "source": [
        "def read_text_file(filename):\n",
        "    with open(filename) as f:\n",
        "        lines = f.readlines()\n",
        "    data = {}\n",
        "    for line in lines:\n",
        "        parts = line.strip().split(\"\\t\")\n",
        "        index = int(parts[0])\n",
        "        values = list(map(int, parts[1].split(\",\")))\n",
        "        data[index] = values\n",
        "    return data\n",
        "\n",
        "data = read_text_file(\"temp.txt\")\n",
        "data"
      ],
      "metadata": {
        "colab": {
          "base_uri": "https://localhost:8080/"
        },
        "id": "ByIx6pEMdN6J",
        "outputId": "c1b81505-2ee3-473a-86a4-074730451a32"
      },
      "execution_count": 13,
      "outputs": [
        {
          "output_type": "execute_result",
          "data": {
            "text/plain": [
              "{0: [1,\n",
              "  2,\n",
              "  3,\n",
              "  4,\n",
              "  5,\n",
              "  6,\n",
              "  7,\n",
              "  8,\n",
              "  9,\n",
              "  10,\n",
              "  11,\n",
              "  12,\n",
              "  13,\n",
              "  14,\n",
              "  15,\n",
              "  16,\n",
              "  17,\n",
              "  18,\n",
              "  19,\n",
              "  20,\n",
              "  21,\n",
              "  22,\n",
              "  23,\n",
              "  24,\n",
              "  25,\n",
              "  26,\n",
              "  27,\n",
              "  28,\n",
              "  29,\n",
              "  30,\n",
              "  31,\n",
              "  32,\n",
              "  33,\n",
              "  34,\n",
              "  35,\n",
              "  36,\n",
              "  37,\n",
              "  38,\n",
              "  39,\n",
              "  40,\n",
              "  41,\n",
              "  42,\n",
              "  43,\n",
              "  44,\n",
              "  45,\n",
              "  46,\n",
              "  47,\n",
              "  48,\n",
              "  49,\n",
              "  50,\n",
              "  51,\n",
              "  52,\n",
              "  53,\n",
              "  54,\n",
              "  55,\n",
              "  56,\n",
              "  57,\n",
              "  58,\n",
              "  59,\n",
              "  60,\n",
              "  61,\n",
              "  62,\n",
              "  63,\n",
              "  64,\n",
              "  65,\n",
              "  66,\n",
              "  67,\n",
              "  68,\n",
              "  69,\n",
              "  70,\n",
              "  71,\n",
              "  72,\n",
              "  73,\n",
              "  74,\n",
              "  75,\n",
              "  76,\n",
              "  77,\n",
              "  78,\n",
              "  79,\n",
              "  80,\n",
              "  81,\n",
              "  82,\n",
              "  83,\n",
              "  84,\n",
              "  85,\n",
              "  86,\n",
              "  87,\n",
              "  88,\n",
              "  89,\n",
              "  90,\n",
              "  91,\n",
              "  92,\n",
              "  93,\n",
              "  94],\n",
              " 1: [0,\n",
              "  5,\n",
              "  20,\n",
              "  135,\n",
              "  2409,\n",
              "  8715,\n",
              "  8932,\n",
              "  10623,\n",
              "  12347,\n",
              "  12846,\n",
              "  13840,\n",
              "  13845,\n",
              "  14005,\n",
              "  20075,\n",
              "  21556,\n",
              "  22939,\n",
              "  23520,\n",
              "  28193,\n",
              "  29724,\n",
              "  29791,\n",
              "  29826,\n",
              "  30691,\n",
              "  31232,\n",
              "  31435,\n",
              "  32317,\n",
              "  32489,\n",
              "  34394,\n",
              "  35589,\n",
              "  35605,\n",
              "  35606,\n",
              "  35613,\n",
              "  35633,\n",
              "  35648,\n",
              "  35678,\n",
              "  38737,\n",
              "  43447,\n",
              "  44846,\n",
              "  44887,\n",
              "  49226,\n",
              "  49985,\n",
              "  623,\n",
              "  629,\n",
              "  4999,\n",
              "  6156,\n",
              "  13912,\n",
              "  14248,\n",
              "  15190,\n",
              "  17636,\n",
              "  19217,\n",
              "  20074,\n",
              "  27536,\n",
              "  29481,\n",
              "  29726,\n",
              "  29767,\n",
              "  30257,\n",
              "  33060,\n",
              "  34250,\n",
              "  34280,\n",
              "  34392,\n",
              "  34406,\n",
              "  34418,\n",
              "  34420,\n",
              "  34439,\n",
              "  34450,\n",
              "  34651,\n",
              "  45054,\n",
              "  49592],\n",
              " 2: [0,\n",
              "  117,\n",
              "  135,\n",
              "  1220,\n",
              "  2755,\n",
              "  12453,\n",
              "  24539,\n",
              "  24714,\n",
              "  41456,\n",
              "  45046,\n",
              "  49927,\n",
              "  6893,\n",
              "  13795,\n",
              "  16659,\n",
              "  32828,\n",
              "  41878],\n",
              " 3: [0, 12, 41, 55, 1532, 12636, 13185, 27552, 38737],\n",
              " 4: [0,\n",
              "  8,\n",
              "  14,\n",
              "  15,\n",
              "  18,\n",
              "  27,\n",
              "  72,\n",
              "  80,\n",
              "  15326,\n",
              "  19068,\n",
              "  19079,\n",
              "  24596,\n",
              "  42697,\n",
              "  46126,\n",
              "  74,\n",
              "  77,\n",
              "  33269,\n",
              "  38792,\n",
              "  38822],\n",
              " 5: [0,\n",
              "  1,\n",
              "  20,\n",
              "  2022,\n",
              "  22939,\n",
              "  23527,\n",
              "  30257,\n",
              "  32503,\n",
              "  35633,\n",
              "  41457,\n",
              "  43262,\n",
              "  44846,\n",
              "  49574,\n",
              "  31140,\n",
              "  32828],\n",
              " 6: [0,\n",
              "  21,\n",
              "  98,\n",
              "  2203,\n",
              "  3238,\n",
              "  5040,\n",
              "  8795,\n",
              "  9843,\n",
              "  9847,\n",
              "  15294,\n",
              "  17874,\n",
              "  18286,\n",
              "  18311,\n",
              "  18320,\n",
              "  20553,\n",
              "  35699,\n",
              "  35776,\n",
              "  38736,\n",
              "  38750,\n",
              "  38800,\n",
              "  543,\n",
              "  575,\n",
              "  11879,\n",
              "  12682,\n",
              "  14943,\n",
              "  15283,\n",
              "  18332,\n",
              "  18560,\n",
              "  18625,\n",
              "  25247,\n",
              "  33080,\n",
              "  34412,\n",
              "  35785,\n",
              "  35822,\n",
              "  42231],\n",
              " 7: [0, 31993, 40218, 40433, 1357, 21843],\n",
              " 8: [0, 4, 38, 46, 72, 85, 24777, 83, 33380],\n",
              " 9: [0, 6085, 18972, 19269],\n",
              " 10: [0, 12, 16, 30, 6027, 13793, 23557, 29581, 35477, 35617, 44310]}"
            ]
          },
          "metadata": {},
          "execution_count": 13
        }
      ]
    },
    {
      "cell_type": "code",
      "source": [
        "# function to create a dictionary from input data\n",
        "def create_dict(line):\n",
        "    fields = line.split('\\t')\n",
        "    user = fields[0]\n",
        "    friends = fields[1].split(',')\n",
        "    return (user, friends)\n",
        "\n",
        "# function to create a list of mutual friends\n",
        "def create_mutual_friends(user, friends, user_dict):\n",
        "    mutual_friends = []\n",
        "    for friend in friends:\n",
        "        friend_friends = set(user_dict.get(friend, []))\n",
        "        mutual_friends.extend(list(friend_friends.intersection(set(friends))))\n",
        "    return (user, list(set(mutual_friends)))\n",
        "\n",
        "# function to sort recommendations by mutual friends count and user ID\n",
        "def sort_recommendations(user, recommendations):\n",
        "    return (user, sorted(recommendations, key=lambda x: (-x[1], x[0]))[:10])\n",
        "\n"
      ],
      "metadata": {
        "id": "mEJt4obt68wW"
      },
      "execution_count": 20,
      "outputs": []
    },
    {
      "cell_type": "code",
      "source": [
        "lines = sc.textFile(\"temp2.txt\")\n",
        "user_dict = lines.map(create_dict).collectAsMap()\n",
        "\n",
        "mutual_friends = lines.map(lambda x: create_mutual_friends(x.split('\\t')[0], x.split('\\t')[1].split(','), user_dict)).mapValues(lambda x: [friend for friend in x if friend not in user_dict[x[0]]])\n",
        "\n",
        "recommendations = mutual_friends.map(lambda x: (x[0], [(friend, len(set(user_dict[friend]).intersection(set(x[1])))) for friend in x[1] if friend in user_dict])).\\\n",
        "map(lambda x: sort_recommendations(x[0], x[1])).sortByKey()\n",
        "\n",
        "recommendations.map(lambda x: \"{}\\t{}\".format(x[0], ','.join(str(friend[0]) for friend in x[1]))).saveAsTextFile(\"output.txt\")\n",
        "\n",
        "sc.stop()"
      ],
      "metadata": {
        "id": "-j8V15iJ6-Ot"
      },
      "execution_count": 22,
      "outputs": []
    }
  ],
  "metadata": {
    "colab": {
      "machine_shape": "hm",
      "provenance": [],
      "include_colab_link": true
    },
    "kernelspec": {
      "display_name": "Python 3",
      "language": "python",
      "name": "python3"
    },
    "language_info": {
      "codemirror_mode": {
        "name": "ipython",
        "version": 3
      },
      "file_extension": ".py",
      "mimetype": "text/x-python",
      "name": "python",
      "nbconvert_exporter": "python",
      "pygments_lexer": "ipython3",
      "version": "3.7.3"
    }
  },
  "nbformat": 4,
  "nbformat_minor": 0
}